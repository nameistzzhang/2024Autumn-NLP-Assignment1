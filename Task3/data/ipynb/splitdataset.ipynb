{
 "cells": [
  {
   "cell_type": "code",
   "execution_count": 1,
   "metadata": {},
   "outputs": [
    {
     "data": {
      "text/plain": [
       "'\\nThis script is used to split the original dataset randomly into trainingset, testset and validationset.\\n'"
      ]
     },
     "execution_count": 1,
     "metadata": {},
     "output_type": "execute_result"
    }
   ],
   "source": [
    "\"\"\"\n",
    "This script is used to split the original dataset randomly into trainingset, testset and validationset.\n",
    "\"\"\""
   ]
  },
  {
   "cell_type": "code",
   "execution_count": 2,
   "metadata": {},
   "outputs": [
    {
     "name": "stdout",
     "output_type": "stream",
     "text": [
      "The dataset has been successfully split into trainingset, testset and validationset.\n"
     ]
    }
   ],
   "source": [
    "# Read in the dataset from \"./eng_jpn.txt\" using utf-8 encoding\n",
    "\n",
    "import random\n",
    "\n",
    "with open(\"../eng_jpn.txt\", \"r\", encoding=\"utf-8\") as f:\n",
    "    lines = f.readlines()\n",
    "\n",
    "# Each line in the dataset is a pair of Japanese and English sentences, separated by a tab.\n",
    "dataset = []\n",
    "for line in lines:\n",
    "    dataset.append(line)\n",
    "\n",
    "# shuffle the dataset\n",
    "random.shuffle(dataset)\n",
    "\n",
    "trainset_path = \"../trainset.txt\"\n",
    "testset_path = \"../testset.txt\"\n",
    "validationset_path = \"../valset.txt\"\n",
    "\n",
    "# Split the dataset into trainingset, testset and validationset 8:1:1\n",
    "trainset = dataset[:int(len(dataset)*0.8)]\n",
    "testset = dataset[int(len(dataset)*0.8):int(len(dataset)*0.9)]\n",
    "validationset = dataset[int(len(dataset)*0.9):]\n",
    "\n",
    "# Write the trainingset, testset and validationset to the corresponding files\n",
    "with open(trainset_path, \"w\", encoding=\"utf-8\") as f:\n",
    "    for line in trainset:\n",
    "        f.write(line)\n",
    "\n",
    "with open(testset_path, \"w\", encoding=\"utf-8\") as f:\n",
    "    for line in testset:\n",
    "        f.write(line)\n",
    "\n",
    "with open(validationset_path, \"w\", encoding=\"utf-8\") as f:\n",
    "    for line in validationset:\n",
    "        f.write(line)\n",
    "\n",
    "print(\"The dataset has been successfully split into trainingset, testset and validationset.\")"
   ]
  }
 ],
 "metadata": {
  "kernelspec": {
   "display_name": "SSL",
   "language": "python",
   "name": "python3"
  },
  "language_info": {
   "codemirror_mode": {
    "name": "ipython",
    "version": 3
   },
   "file_extension": ".py",
   "mimetype": "text/x-python",
   "name": "python",
   "nbconvert_exporter": "python",
   "pygments_lexer": "ipython3",
   "version": "3.8.18"
  }
 },
 "nbformat": 4,
 "nbformat_minor": 2
}
